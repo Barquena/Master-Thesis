{
 "cells": [
  {
   "cell_type": "markdown",
   "metadata": {},
   "source": [
    "#######################################\n",
    "# Made by : Charles Desrosiers-Gagnon #\n",
    "# Last Update : february 13, 2024     #\n",
    "#######################################"
   ]
  },
  {
   "cell_type": "code",
   "execution_count": 1,
   "metadata": {},
   "outputs": [],
   "source": [
    "import numpy as np\n",
    "%matplotlib inline\n",
    "#%matplotlib widget\n",
    "import matplotlib.pyplot as plt\n",
    "import seaborn as sns\n",
    "import pandas as pd"
   ]
  },
  {
   "cell_type": "markdown",
   "metadata": {},
   "source": [
    "Import data"
   ]
  },
  {
   "cell_type": "code",
   "execution_count": 2,
   "metadata": {},
   "outputs": [],
   "source": [
    "#set path\n",
    "PATH = \"\"\n",
    "#open file\n",
    "df = pd.read_excel(PATH,sheet_name=\"Donnees\")"
   ]
  },
  {
   "cell_type": "code",
   "execution_count": 3,
   "metadata": {},
   "outputs": [
    {
     "name": "stdout",
     "output_type": "stream",
     "text": [
      "<class 'pandas.core.frame.DataFrame'>\n",
      "RangeIndex: 50 entries, 0 to 49\n",
      "Data columns (total 88 columns):\n",
      " #   Column                                      Non-Null Count  Dtype  \n",
      "---  ------                                      --------------  -----  \n",
      " 0   code                                        50 non-null     object \n",
      " 1   groups                                      50 non-null     int64  \n",
      " 2   match                                       50 non-null     int64  \n",
      " 3   sup                                         50 non-null     int64  \n",
      " 4   Sex(F=0 M=1)                                50 non-null     int64  \n",
      " 5   sex                                         50 non-null     object \n",
      " 6   TC                                          46 non-null     float64\n",
      " 7   year of birth                               50 non-null     int64  \n",
      " 8   dif_age                                     45 non-null     float64\n",
      " 9   age                                         50 non-null     int64  \n",
      " 10  weight                                      50 non-null     float64\n",
      " 11  height                                      50 non-null     float64\n",
      " 12  BMI                                         50 non-null     float64\n",
      " 13  date_VO2max                                 50 non-null     object \n",
      " 14  ICAd_hospt(1/0)                             50 non-null     int64  \n",
      " 15  Date hospit                                 10 non-null     object \n",
      " 16  Deces Y=1 N=0                               48 non-null     float64\n",
      " 17  Date Deces                                  6 non-null      object \n",
      " 18  cardiomyopathie                             50 non-null     object \n",
      " 19  HTP                                         50 non-null     int64  \n",
      " 20  dyslipie                                    50 non-null     int64  \n",
      " 21  DIABETE                                     50 non-null     int64  \n",
      " 22  NTproBNP                                    41 non-null     object \n",
      " 23  Troponine_T                                 15 non-null     object \n",
      " 24  Pacemaker(Y=1)                              50 non-null     int64  \n",
      " 25  Defibrilateur                               50 non-null     int64  \n",
      " 26  cardiomyopathy_details                      39 non-null     object \n",
      " 27  LVEF_rest                                   50 non-null     int64  \n",
      " 28  RVEF                                        50 non-null     object \n",
      " 29  FEVs                                        50 non-null     object \n",
      " 30  FE                                          50 non-null     int64  \n",
      " 31  severe valvular disease                     50 non-null     int64  \n",
      " 32  severe valvular disease_precicision (if 1)  18 non-null     object \n",
      " 33  NYHA                                        50 non-null     int64  \n",
      " 34  lasix_1_0                                   50 non-null     int64  \n",
      " 35  lasix_dose_day_mg                           50 non-null     float64\n",
      " 36  >80mg                                       50 non-null     int64  \n",
      " 37  spironolactone_1_0                          50 non-null     int64  \n",
      " 38  sprironolactone_dose_day_mg                 50 non-null     float64\n",
      " 39  >25mg                                       50 non-null     int64  \n",
      " 40  AntAII_1_0                                  50 non-null     int64  \n",
      " 41  BCC_dose_day_mg                             50 non-null     float64\n",
      " 42  ARNi_1_0                                    50 non-null     int64  \n",
      " 43  ARNi_dose_day_mg                            50 non-null     float64\n",
      " 44  AntPlaq _1_0                                46 non-null     float64\n",
      " 45  AntiPlaq_dose_day_mg                        46 non-null     float64\n",
      " 46  AntCoag _1_0                                50 non-null     int64  \n",
      " 47  AntiCoag_dose_day_mg                        50 non-null     float64\n",
      " 48  Statine_1_0                                 50 non-null     int64  \n",
      " 49  Statine_dose_day_mg                         50 non-null     int64  \n",
      " 50  BB_1_0                                      50 non-null     int64  \n",
      " 51  BB_dose_day_mg                              50 non-null     float64\n",
      " 52  HF (N=0, Y=1)                               45 non-null     float64\n",
      " 53  VO2_repos                                   50 non-null     int64  \n",
      " 54  VO2_max                                     50 non-null     int64  \n",
      " 55  %_VO2_maxKg                                 50 non-null     int64  \n",
      " 56  delta_VO2                                   49 non-null     float64\n",
      " 57  VE_repos                                    50 non-null     float64\n",
      " 58  VE_max                                      50 non-null     float64\n",
      " 59  VCO2_repos                                  44 non-null     float64\n",
      " 60  VCO2max                                     44 non-null     float64\n",
      " 61  OUES                                        50 non-null     float64\n",
      " 62  FC_repos                                    50 non-null     int64  \n",
      " 63  Fcmax                                       50 non-null     int64  \n",
      " 64  Analysis                                    44 non-null     float64\n",
      " 65  Ventricule                                  44 non-null     object \n",
      " 66  pente_VEVCO2                                50 non-null     float64\n",
      " 67  VeVco2                                      44 non-null     float64\n",
      " 68  BSA                                         50 non-null     float64\n",
      " 69  ouesBsa                                     44 non-null     float64\n",
      " 70  d_L3                                        44 non-null     float64\n",
      " 71  FCr                                         50 non-null     int64  \n",
      " 72  VO2Kg                                       50 non-null     float64\n",
      " 73  CO (L/min)                                  26 non-null     float64\n",
      " 74  CImax                                       26 non-null     float64\n",
      " 75  SBPrest                                     44 non-null     float64\n",
      " 76  SBPmax                                      44 non-null     float64\n",
      " 77  DBPrest                                     44 non-null     float64\n",
      " 78  DBPmax                                      44 non-null     float64\n",
      " 79  DP                                          44 non-null     float64\n",
      " 80  DeltaSBP                                    44 non-null     float64\n",
      " 81  DeltaDiffPressionRemplissage                44 non-null     float64\n",
      " 82  ChrInd                                      50 non-null     float64\n",
      " 83  saturationO2                                38 non-null     float64\n",
      " 84  METSrest                                    42 non-null     float64\n",
      " 85  METSat2                                     37 non-null     float64\n",
      " 86  METSmax                                     42 non-null     float64\n",
      " 87  RERmax                                      42 non-null     float64\n",
      "dtypes: float64(43), int64(32), object(13)\n",
      "memory usage: 34.5+ KB\n"
     ]
    }
   ],
   "source": [
    "df.info()"
   ]
  },
  {
   "cell_type": "markdown",
   "metadata": {},
   "source": [
    "Selecting & Cleaning data"
   ]
  },
  {
   "cell_type": "code",
   "execution_count": 4,
   "metadata": {},
   "outputs": [],
   "source": [
    "# Only select float64 data categories will be kept as data will 50 no-null entry.\n",
    "\n",
    "workSet = df.select_dtypes(exclude=['object'])\n",
    "\n",
    "attributes = list(workSet.columns.values) # trunk manualy the attibute list to select the relevant ones "
   ]
  },
  {
   "cell_type": "code",
   "execution_count": 5,
   "metadata": {},
   "outputs": [
    {
     "name": "stdout",
     "output_type": "stream",
     "text": [
      "<class 'pandas.core.frame.DataFrame'>\n",
      "RangeIndex: 50 entries, 0 to 49\n",
      "Data columns (total 33 columns):\n",
      " #   Column                       Non-Null Count  Dtype  \n",
      "---  ------                       --------------  -----  \n",
      " 0   groups                       50 non-null     int64  \n",
      " 1   Sex(F=0 M=1)                 50 non-null     int64  \n",
      " 2   year of birth                50 non-null     int64  \n",
      " 3   age                          50 non-null     int64  \n",
      " 4   weight                       50 non-null     float64\n",
      " 5   height                       50 non-null     float64\n",
      " 6   HTP                          50 non-null     int64  \n",
      " 7   dyslipie                     50 non-null     int64  \n",
      " 8   DIABETE                      50 non-null     int64  \n",
      " 9   Pacemaker(Y=1)               50 non-null     int64  \n",
      " 10  Defibrilateur                50 non-null     int64  \n",
      " 11  LVEF_rest                    50 non-null     int64  \n",
      " 12  NYHA                         50 non-null     int64  \n",
      " 13  lasix_dose_day_mg            50 non-null     float64\n",
      " 14  sprironolactone_dose_day_mg  50 non-null     float64\n",
      " 15  BCC_dose_day_mg              50 non-null     float64\n",
      " 16  ARNi_dose_day_mg             50 non-null     float64\n",
      " 17  AntiPlaq_dose_day_mg         50 non-null     float64\n",
      " 18  AntiCoag_dose_day_mg         50 non-null     float64\n",
      " 19  Statine_dose_day_mg          50 non-null     int64  \n",
      " 20  BB_dose_day_mg               50 non-null     float64\n",
      " 21  VO2_repos                    50 non-null     int64  \n",
      " 22  VO2_max                      50 non-null     int64  \n",
      " 23  %_VO2_maxKg                  50 non-null     int64  \n",
      " 24  VE_repos                     50 non-null     float64\n",
      " 25  VE_max                       50 non-null     float64\n",
      " 26  FC_repos                     50 non-null     int64  \n",
      " 27  Fcmax                        50 non-null     int64  \n",
      " 28  pente_VEVCO2                 50 non-null     float64\n",
      " 29  BSA                          50 non-null     float64\n",
      " 30  FCr                          50 non-null     int64  \n",
      " 31  VO2Kg                        50 non-null     float64\n",
      " 32  ChrInd                       50 non-null     float64\n",
      "dtypes: float64(15), int64(18)\n",
      "memory usage: 13.0 KB\n"
     ]
    }
   ],
   "source": [
    "workSet = workSet[['groups','Sex(F=0 M=1)','year of birth','age','weight','height','HTP','dyslipie','DIABETE','Pacemaker(Y=1)','Defibrilateur','LVEF_rest','NYHA',\n",
    "                   'lasix_dose_day_mg','sprironolactone_dose_day_mg',\n",
    "                    'BCC_dose_day_mg','ARNi_dose_day_mg', 'AntiPlaq_dose_day_mg','AntiCoag_dose_day_mg',\n",
    "                    'Statine_dose_day_mg','BB_dose_day_mg','VO2_repos','VO2_max', '%_VO2_maxKg','VE_repos',\n",
    "                    'VE_max','FC_repos','Fcmax','pente_VEVCO2','BSA','FCr','VO2Kg','ChrInd']]\n",
    "workSet['AntiPlaq_dose_day_mg'] = workSet['AntiPlaq_dose_day_mg'].fillna(0) # the row with empty value in that case just indicate that the patient did not took that medication\n",
    "\n",
    "#workSet = workSet[:-1] #drop last row\n",
    "workSet.info()"
   ]
  },
  {
   "cell_type": "markdown",
   "metadata": {},
   "source": [
    "*Note Group 1 = systemic right ventricle || group 0 = systemic left ventricle*"
   ]
  },
  {
   "cell_type": "code",
   "execution_count": 6,
   "metadata": {},
   "outputs": [],
   "source": [
    "# separate group and the data set\n",
    "#X = workSet.drop('groups', axis=1)\n",
    "#y = workSet['groups']\n",
    "y_sRV = workSet['groups'] == 1\n",
    "y_sLV = workSet['groups'] == 0\n",
    "\n",
    "\n",
    "SRV = workSet[workSet['groups'] == 1]\n",
    "SRV = SRV.drop('groups', axis=1)\n",
    "\n",
    "SLV = workSet[workSet['groups'] == 0]\n",
    "SLV = SLV.drop('groups', axis=1)\n",
    "\n"
   ]
  },
  {
   "cell_type": "markdown",
   "metadata": {},
   "source": [
    "Standardisation"
   ]
  },
  {
   "cell_type": "code",
   "execution_count": 7,
   "metadata": {},
   "outputs": [],
   "source": [
    "from sklearn.preprocessing import StandardScaler\n",
    "srv = StandardScaler().fit_transform(SRV)\n",
    "srv = pd.DataFrame(srv)\n",
    "\n",
    "slv = StandardScaler().fit_transform(SLV)\n",
    "slv = pd.DataFrame(slv)"
   ]
  },
  {
   "cell_type": "markdown",
   "metadata": {},
   "source": [
    "Principal components analysis"
   ]
  },
  {
   "cell_type": "code",
   "execution_count": 8,
   "metadata": {},
   "outputs": [],
   "source": [
    "from sklearn.decomposition import PCA\n",
    "pca_R = PCA(n_components=2)\n",
    "#pca_x = pca.fit_transform(X)\n",
    "pca_srv = pca_R.fit_transform(srv)\n",
    "pca_srv = pd.DataFrame(pca_srv)\n",
    "\n",
    "pca_L = PCA(n_components=2)\n",
    "pca_slv = pca_L.fit_transform(slv)\n",
    "pca_slv = pd.DataFrame(pca_slv)"
   ]
  },
  {
   "cell_type": "markdown",
   "metadata": {},
   "source": [
    "How much each components explain the variance in this data sets"
   ]
  },
  {
   "cell_type": "code",
   "execution_count": 9,
   "metadata": {},
   "outputs": [],
   "source": [
    "#sRV\n",
    "explained_variance_R = pca_R.explained_variance_ratio_\n",
    "explained_variance_R.sort()\n",
    "explained_variance_R = explained_variance_R[::-1]\n",
    "\n",
    "#sLV\n",
    "explained_variance_L = pca_L.explained_variance_ratio_\n",
    "explained_variance_L.sort()\n",
    "explained_variance_L = explained_variance_L[::-1]"
   ]
  },
  {
   "cell_type": "code",
   "execution_count": 10,
   "metadata": {},
   "outputs": [],
   "source": [
    "# number of components #\n",
    "import numpy as np\n",
    "n_pcs= pca_R.components_.shape[0]\n",
    "# get the index of the most important feature on EACH component i.e. largest absolute value using LIST COMPREHENSION HERE\n",
    "most_important_R = [np.abs(pca_R.components_[i]).argmax() for i in range(n_pcs)]\n",
    "most_important_L = [np.abs(pca_L.components_[i]).argmax() for i in range(n_pcs)]\n",
    "# Get the list of attributes alreaddy establish :\n",
    "feature_names = ['Sex(F=0 M=1)','year of birth','age','weight','height','HTP','dyslipie','DIABETE','Pacemaker(Y=1)','Defibrilateur','LVEF_rest','NYHA',\n",
    "                   'lasix_dose_day_mg','sprironolactone_dose_day_mg',\n",
    "                    'BCC_dose_day_mg','ARNi_dose_day_mg', 'AntiPlaq_dose_day_mg','AntiCoag_dose_day_mg',\n",
    "                    'Statine_dose_day_mg','BB_dose_day_mg','VO2_repos','VO2_max', '%_VO2_maxKg','VE_repos',\n",
    "                    'VE_max','FC_repos','Fcmax','pente_VEVCO2','BSA','FCr','VO2Kg','ChrInd']\n",
    "\n",
    "# get the names\n",
    "most_important_names_R = [feature_names[most_important_R[i]] for i in range(n_pcs)]\n",
    "most_important_names_L = [feature_names[most_important_L[i]] for i in range(n_pcs)]\n",
    "\n",
    "# using LIST COMPREHENSION HERE AGAIN\n",
    "dic_R = {'PC{}'.format(i+1): most_important_names_R[i] for i in range(n_pcs)}\n",
    "dic_L = {'PC{}'.format(i+1): most_important_names_L[i] for i in range(n_pcs)}\n"
   ]
  },
  {
   "cell_type": "code",
   "execution_count": 11,
   "metadata": {},
   "outputs": [],
   "source": [
    "# make dic a table \n",
    "table_R = pd.DataFrame(dic_R.items())\n",
    "table_L = pd.DataFrame(dic_L.items())\n",
    "# changing names of colums\n",
    "table_R = table_R.rename(columns={0: 'Keys', 1: 'Features'})\n",
    "table_L = table_L.rename(columns={0: 'Keys', 1: 'Features'})\n",
    "# adding variance to table\n",
    "explained_variance_R = pd.DataFrame(explained_variance_R)\n",
    "explained_variance_L = pd.DataFrame(explained_variance_L)\n",
    "\n",
    "explained_variance_R[0]= explained_variance_R[0].apply(lambda x: format(x, 'f'))\n",
    "explained_variance_L[0]= explained_variance_L[0].apply(lambda x: format(x, 'f'))\n",
    "\n",
    "explained_variance_R = explained_variance_R.rename(columns={0: 'Variance'})\n",
    "explained_variance_L = explained_variance_L.rename(columns={0: 'Variance'})\n",
    "\n",
    "table_R['Variance'] = explained_variance_R\n",
    "table_L['Variance'] = explained_variance_L "
   ]
  },
  {
   "cell_type": "markdown",
   "metadata": {},
   "source": [
    "*Adding group labelling back*"
   ]
  },
  {
   "cell_type": "code",
   "execution_count": 13,
   "metadata": {},
   "outputs": [],
   "source": [
    "table_features_R = list(table_R['Keys'].values)\n",
    "table_features_L = list(table_L['Keys'].values)\n",
    "\n",
    "pca_srv.columns = table_features_R\n",
    "pca_srv['target']=y_sRV\n",
    "\n",
    "pca_slv.columns = table_features_L\n",
    "pca_slv['target']=y_sLV\n"
   ]
  },
  {
   "cell_type": "markdown",
   "metadata": {},
   "source": [
    "Visualisation"
   ]
  },
  {
   "cell_type": "code",
   "execution_count": 14,
   "metadata": {},
   "outputs": [],
   "source": [
    "#from mpl_toolkits.mplot3d import Axes3D\n",
    "# to make an interactive plot\n",
    "plt.rcParams['figure.figsize'] = [50, 15]\n",
    "font = {'size'   : 16}\n",
    "\n",
    "plt.rc('font', **font)"
   ]
  },
  {
   "cell_type": "code",
   "execution_count": 33,
   "metadata": {},
   "outputs": [
    {
     "data": {
      "image/png": "[encoded data removed]",
      "text/plain": [
       "<Figure size 3600x1080 with 2 Axes>"
      ]
     },
     "metadata": {
      "needs_background": "light"
     },
     "output_type": "display_data"
    }
   ],
   "source": [
    "#set plot  pca_x['target']=y\n",
    "fig = plt.figure()\n",
    "\n",
    "arrowprops=dict(arrowstyle='->',linewidth=2, shrinkA=0, shrinkB=0)\n",
    "\n",
    "#Giving a title and names to axes\n",
    "#fig.suptitle(\"Difference between patients with a systemic right ventricle and a systemic left ventricle \") \n",
    "\n",
    "# # Building the plot\n",
    "#sRV\n",
    "plt.subplot(1, 2, 1)\n",
    "plt.scatter(pca_srv['PC1'], pca_srv['PC2'], color ='r')\n",
    "plt.title('PC1 (20%) and PC2_A (13%) explanation of variance in sRV')\n",
    "plt.xlabel('PC1')\n",
    "plt.ylabel('PC2_A')\n",
    "\n",
    "\n",
    "#sLV\n",
    "plt.subplot(1, 2, 2)\n",
    "plt.scatter(pca_srv['PC2'], pca_slv['PC1'], color ='b')\n",
    "plt.title('PC1 (18%) and PC2_B (22%) explanation of variance in sLV')\n",
    "plt.xlabel('PC1')\n",
    "plt.ylabel('PC2_B')\n",
    "\n",
    "\n",
    "\n",
    "plt.show()\n"
   ]
  }
 ],
 "metadata": {
  "kernelspec": {
   "display_name": "Python 3",
   "language": "python",
   "name": "python3"
  },
  "language_info": {
   "codemirror_mode": {
    "name": "ipython",
    "version": 3
   },
   "file_extension": ".py",
   "mimetype": "text/x-python",
   "name": "python",
   "nbconvert_exporter": "python",
   "pygments_lexer": "ipython3",
   "version": "3.9.1"
  }
 },
 "nbformat": 4,
 "nbformat_minor": 2
}
